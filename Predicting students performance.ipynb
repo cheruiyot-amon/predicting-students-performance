{
 "cells": [
  {
   "cell_type": "code",
   "execution_count": 98,
   "metadata": {},
   "outputs": [],
   "source": [
    "# Importing some libraries"
   ]
  },
  {
   "cell_type": "code",
   "execution_count": 1,
   "metadata": {},
   "outputs": [],
   "source": [
    "import pandas as pd\n",
    "import matplotlib.pyplot as plt\n",
    "import seaborn as sns\n",
    "import numpy as np\n"
   ]
  },
  {
   "cell_type": "code",
   "execution_count": 99,
   "metadata": {},
   "outputs": [],
   "source": [
    "#installing pandas_profiling for quick understanding of the data"
   ]
  },
  {
   "cell_type": "code",
   "execution_count": 5,
   "metadata": {},
   "outputs": [
    {
     "name": "stdout",
     "output_type": "stream",
     "text": [
      "Requirement already satisfied: pandas-profiling in c:\\users\\qutoba\\anaconda3\\lib\\site-packages (3.0.0)\n",
      "Requirement already satisfied: tqdm>=4.48.2 in c:\\users\\qutoba\\anaconda3\\lib\\site-packages (from pandas-profiling) (4.50.2)\n",
      "Requirement already satisfied: phik>=0.11.1 in c:\\users\\qutoba\\anaconda3\\lib\\site-packages (from pandas-profiling) (0.12.0)\n",
      "Requirement already satisfied: seaborn>=0.10.1 in c:\\users\\qutoba\\anaconda3\\lib\\site-packages (from pandas-profiling) (0.11.0)\n",
      "Requirement already satisfied: jinja2>=2.11.1 in c:\\users\\qutoba\\anaconda3\\lib\\site-packages (from pandas-profiling) (2.11.2)\n",
      "Requirement already satisfied: missingno>=0.4.2 in c:\\users\\qutoba\\anaconda3\\lib\\site-packages (from pandas-profiling) (0.5.0)\n",
      "Requirement already satisfied: joblib in c:\\users\\qutoba\\anaconda3\\lib\\site-packages (from pandas-profiling) (0.17.0)\n",
      "Requirement already satisfied: scipy>=1.4.1 in c:\\users\\qutoba\\anaconda3\\lib\\site-packages (from pandas-profiling) (1.5.2)\n",
      "Requirement already satisfied: visions[type_image_path]==0.7.1 in c:\\users\\qutoba\\anaconda3\\lib\\site-packages (from pandas-profiling) (0.7.1)\n",
      "Requirement already satisfied: htmlmin>=0.1.12 in c:\\users\\qutoba\\anaconda3\\lib\\site-packages (from pandas-profiling) (0.1.12)\n",
      "Requirement already satisfied: requests>=2.24.0 in c:\\users\\qutoba\\anaconda3\\lib\\site-packages (from pandas-profiling) (2.24.0)\n",
      "Requirement already satisfied: PyYAML>=5.0.0 in c:\\users\\qutoba\\anaconda3\\lib\\site-packages (from pandas-profiling) (5.3.1)\n",
      "Requirement already satisfied: numpy>=1.16.0 in c:\\users\\qutoba\\anaconda3\\lib\\site-packages (from pandas-profiling) (1.19.2)\n",
      "Requirement already satisfied: pandas!=1.0.0,!=1.0.1,!=1.0.2,!=1.1.0,>=0.25.3 in c:\\users\\qutoba\\anaconda3\\lib\\site-packages (from pandas-profiling) (1.1.3)\n",
      "Requirement already satisfied: matplotlib>=3.2.0 in c:\\users\\qutoba\\anaconda3\\lib\\site-packages (from pandas-profiling) (3.3.2)\n",
      "Requirement already satisfied: pydantic>=1.8.1 in c:\\users\\qutoba\\anaconda3\\lib\\site-packages (from pandas-profiling) (1.8.2)\n",
      "Requirement already satisfied: tangled-up-in-unicode==0.1.0 in c:\\users\\qutoba\\anaconda3\\lib\\site-packages (from pandas-profiling) (0.1.0)\n",
      "Requirement already satisfied: MarkupSafe>=0.23 in c:\\users\\qutoba\\anaconda3\\lib\\site-packages (from jinja2>=2.11.1->pandas-profiling) (1.1.1)\n",
      "Requirement already satisfied: attrs>=19.3.0 in c:\\users\\qutoba\\anaconda3\\lib\\site-packages (from visions[type_image_path]==0.7.1->pandas-profiling) (20.3.0)\n",
      "Requirement already satisfied: multimethod==1.4 in c:\\users\\qutoba\\anaconda3\\lib\\site-packages (from visions[type_image_path]==0.7.1->pandas-profiling) (1.4)\n",
      "Requirement already satisfied: networkx>=2.4 in c:\\users\\qutoba\\anaconda3\\lib\\site-packages (from visions[type_image_path]==0.7.1->pandas-profiling) (2.5)\n",
      "Requirement already satisfied: bottleneck in c:\\users\\qutoba\\anaconda3\\lib\\site-packages (from visions[type_image_path]==0.7.1->pandas-profiling) (1.3.2)\n",
      "Requirement already satisfied: imagehash; extra == \"type_image_path\" in c:\\users\\qutoba\\anaconda3\\lib\\site-packages (from visions[type_image_path]==0.7.1->pandas-profiling) (4.2.1)\n",
      "Requirement already satisfied: Pillow; extra == \"type_image_path\" in c:\\users\\qutoba\\anaconda3\\lib\\site-packages (from visions[type_image_path]==0.7.1->pandas-profiling) (8.0.1)\n",
      "Requirement already satisfied: certifi>=2017.4.17 in c:\\users\\qutoba\\anaconda3\\lib\\site-packages (from requests>=2.24.0->pandas-profiling) (2020.6.20)\n",
      "Requirement already satisfied: chardet<4,>=3.0.2 in c:\\users\\qutoba\\anaconda3\\lib\\site-packages (from requests>=2.24.0->pandas-profiling) (3.0.4)\n",
      "Requirement already satisfied: idna<3,>=2.5 in c:\\users\\qutoba\\anaconda3\\lib\\site-packages (from requests>=2.24.0->pandas-profiling) (2.10)\n",
      "Requirement already satisfied: urllib3!=1.25.0,!=1.25.1,<1.26,>=1.21.1 in c:\\users\\qutoba\\anaconda3\\lib\\site-packages (from requests>=2.24.0->pandas-profiling) (1.25.11)\n",
      "Requirement already satisfied: pytz>=2017.2 in c:\\users\\qutoba\\anaconda3\\lib\\site-packages (from pandas!=1.0.0,!=1.0.1,!=1.0.2,!=1.1.0,>=0.25.3->pandas-profiling) (2020.1)\n",
      "Requirement already satisfied: python-dateutil>=2.7.3 in c:\\users\\qutoba\\anaconda3\\lib\\site-packages (from pandas!=1.0.0,!=1.0.1,!=1.0.2,!=1.1.0,>=0.25.3->pandas-profiling) (2.8.1)\n",
      "Requirement already satisfied: pyparsing!=2.0.4,!=2.1.2,!=2.1.6,>=2.0.3 in c:\\users\\qutoba\\anaconda3\\lib\\site-packages (from matplotlib>=3.2.0->pandas-profiling) (2.4.7)\n",
      "Requirement already satisfied: cycler>=0.10 in c:\\users\\qutoba\\anaconda3\\lib\\site-packages (from matplotlib>=3.2.0->pandas-profiling) (0.10.0)\n",
      "Requirement already satisfied: kiwisolver>=1.0.1 in c:\\users\\qutoba\\anaconda3\\lib\\site-packages (from matplotlib>=3.2.0->pandas-profiling) (1.3.0)\n",
      "Requirement already satisfied: typing-extensions>=3.7.4.3 in c:\\users\\qutoba\\anaconda3\\lib\\site-packages (from pydantic>=1.8.1->pandas-profiling) (3.7.4.3)\n",
      "Requirement already satisfied: decorator>=4.3.0 in c:\\users\\qutoba\\anaconda3\\lib\\site-packages (from networkx>=2.4->visions[type_image_path]==0.7.1->pandas-profiling) (4.4.2)\n",
      "Requirement already satisfied: PyWavelets in c:\\users\\qutoba\\anaconda3\\lib\\site-packages (from imagehash; extra == \"type_image_path\"->visions[type_image_path]==0.7.1->pandas-profiling) (1.1.1)\n",
      "Requirement already satisfied: six in c:\\users\\qutoba\\anaconda3\\lib\\site-packages (from imagehash; extra == \"type_image_path\"->visions[type_image_path]==0.7.1->pandas-profiling) (1.15.0)\n",
      "Note: you may need to restart the kernel to use updated packages.\n"
     ]
    }
   ],
   "source": [
    "pip install pandas-profiling \n"
   ]
  },
  {
   "cell_type": "markdown",
   "metadata": {},
   "source": [
    "# Extracting the data"
   ]
  },
  {
   "cell_type": "code",
   "execution_count": 2,
   "metadata": {},
   "outputs": [
    {
     "data": {
      "text/html": [
       "<div>\n",
       "<style scoped>\n",
       "    .dataframe tbody tr th:only-of-type {\n",
       "        vertical-align: middle;\n",
       "    }\n",
       "\n",
       "    .dataframe tbody tr th {\n",
       "        vertical-align: top;\n",
       "    }\n",
       "\n",
       "    .dataframe thead th {\n",
       "        text-align: right;\n",
       "    }\n",
       "</style>\n",
       "<table border=\"1\" class=\"dataframe\">\n",
       "  <thead>\n",
       "    <tr style=\"text-align: right;\">\n",
       "      <th></th>\n",
       "      <th>gender</th>\n",
       "      <th>race/ethnicity</th>\n",
       "      <th>parental level of education</th>\n",
       "      <th>lunch</th>\n",
       "      <th>test preparation course</th>\n",
       "      <th>math score</th>\n",
       "      <th>reading score</th>\n",
       "      <th>writing score</th>\n",
       "    </tr>\n",
       "  </thead>\n",
       "  <tbody>\n",
       "    <tr>\n",
       "      <th>0</th>\n",
       "      <td>female</td>\n",
       "      <td>group B</td>\n",
       "      <td>bachelor's degree</td>\n",
       "      <td>standard</td>\n",
       "      <td>none</td>\n",
       "      <td>72</td>\n",
       "      <td>72</td>\n",
       "      <td>74</td>\n",
       "    </tr>\n",
       "    <tr>\n",
       "      <th>1</th>\n",
       "      <td>female</td>\n",
       "      <td>group C</td>\n",
       "      <td>some college</td>\n",
       "      <td>standard</td>\n",
       "      <td>completed</td>\n",
       "      <td>69</td>\n",
       "      <td>90</td>\n",
       "      <td>88</td>\n",
       "    </tr>\n",
       "    <tr>\n",
       "      <th>2</th>\n",
       "      <td>female</td>\n",
       "      <td>group B</td>\n",
       "      <td>master's degree</td>\n",
       "      <td>standard</td>\n",
       "      <td>none</td>\n",
       "      <td>90</td>\n",
       "      <td>95</td>\n",
       "      <td>93</td>\n",
       "    </tr>\n",
       "    <tr>\n",
       "      <th>3</th>\n",
       "      <td>male</td>\n",
       "      <td>group A</td>\n",
       "      <td>associate's degree</td>\n",
       "      <td>free/reduced</td>\n",
       "      <td>none</td>\n",
       "      <td>47</td>\n",
       "      <td>57</td>\n",
       "      <td>44</td>\n",
       "    </tr>\n",
       "    <tr>\n",
       "      <th>4</th>\n",
       "      <td>male</td>\n",
       "      <td>group C</td>\n",
       "      <td>some college</td>\n",
       "      <td>standard</td>\n",
       "      <td>none</td>\n",
       "      <td>76</td>\n",
       "      <td>78</td>\n",
       "      <td>75</td>\n",
       "    </tr>\n",
       "  </tbody>\n",
       "</table>\n",
       "</div>"
      ],
      "text/plain": [
       "   gender race/ethnicity parental level of education         lunch  \\\n",
       "0  female        group B           bachelor's degree      standard   \n",
       "1  female        group C                some college      standard   \n",
       "2  female        group B             master's degree      standard   \n",
       "3    male        group A          associate's degree  free/reduced   \n",
       "4    male        group C                some college      standard   \n",
       "\n",
       "  test preparation course  math score  reading score  writing score  \n",
       "0                    none          72             72             74  \n",
       "1               completed          69             90             88  \n",
       "2                    none          90             95             93  \n",
       "3                    none          47             57             44  \n",
       "4                    none          76             78             75  "
      ]
     },
     "execution_count": 2,
     "metadata": {},
     "output_type": "execute_result"
    }
   ],
   "source": [
    "students=pd.read_csv(\"StudentsPerformance.csv\")\n",
    "students.head()"
   ]
  },
  {
   "cell_type": "markdown",
   "metadata": {},
   "source": [
    "# Checking the data information"
   ]
  },
  {
   "cell_type": "code",
   "execution_count": 3,
   "metadata": {},
   "outputs": [
    {
     "name": "stdout",
     "output_type": "stream",
     "text": [
      "<class 'pandas.core.frame.DataFrame'>\n",
      "RangeIndex: 1000 entries, 0 to 999\n",
      "Data columns (total 8 columns):\n",
      " #   Column                       Non-Null Count  Dtype \n",
      "---  ------                       --------------  ----- \n",
      " 0   gender                       1000 non-null   object\n",
      " 1   race/ethnicity               1000 non-null   object\n",
      " 2   parental level of education  1000 non-null   object\n",
      " 3   lunch                        1000 non-null   object\n",
      " 4   test preparation course      1000 non-null   object\n",
      " 5   math score                   1000 non-null   int64 \n",
      " 6   reading score                1000 non-null   int64 \n",
      " 7   writing score                1000 non-null   int64 \n",
      "dtypes: int64(3), object(5)\n",
      "memory usage: 62.6+ KB\n"
     ]
    }
   ],
   "source": [
    "students.info()"
   ]
  },
  {
   "cell_type": "markdown",
   "metadata": {},
   "source": [
    "# Describing Data"
   ]
  },
  {
   "cell_type": "code",
   "execution_count": 4,
   "metadata": {},
   "outputs": [
    {
     "data": {
      "text/html": [
       "<div>\n",
       "<style scoped>\n",
       "    .dataframe tbody tr th:only-of-type {\n",
       "        vertical-align: middle;\n",
       "    }\n",
       "\n",
       "    .dataframe tbody tr th {\n",
       "        vertical-align: top;\n",
       "    }\n",
       "\n",
       "    .dataframe thead th {\n",
       "        text-align: right;\n",
       "    }\n",
       "</style>\n",
       "<table border=\"1\" class=\"dataframe\">\n",
       "  <thead>\n",
       "    <tr style=\"text-align: right;\">\n",
       "      <th></th>\n",
       "      <th>math score</th>\n",
       "      <th>reading score</th>\n",
       "      <th>writing score</th>\n",
       "    </tr>\n",
       "  </thead>\n",
       "  <tbody>\n",
       "    <tr>\n",
       "      <th>count</th>\n",
       "      <td>1000.00000</td>\n",
       "      <td>1000.000000</td>\n",
       "      <td>1000.000000</td>\n",
       "    </tr>\n",
       "    <tr>\n",
       "      <th>mean</th>\n",
       "      <td>66.08900</td>\n",
       "      <td>69.169000</td>\n",
       "      <td>68.054000</td>\n",
       "    </tr>\n",
       "    <tr>\n",
       "      <th>std</th>\n",
       "      <td>15.16308</td>\n",
       "      <td>14.600192</td>\n",
       "      <td>15.195657</td>\n",
       "    </tr>\n",
       "    <tr>\n",
       "      <th>min</th>\n",
       "      <td>0.00000</td>\n",
       "      <td>17.000000</td>\n",
       "      <td>10.000000</td>\n",
       "    </tr>\n",
       "    <tr>\n",
       "      <th>25%</th>\n",
       "      <td>57.00000</td>\n",
       "      <td>59.000000</td>\n",
       "      <td>57.750000</td>\n",
       "    </tr>\n",
       "    <tr>\n",
       "      <th>50%</th>\n",
       "      <td>66.00000</td>\n",
       "      <td>70.000000</td>\n",
       "      <td>69.000000</td>\n",
       "    </tr>\n",
       "    <tr>\n",
       "      <th>75%</th>\n",
       "      <td>77.00000</td>\n",
       "      <td>79.000000</td>\n",
       "      <td>79.000000</td>\n",
       "    </tr>\n",
       "    <tr>\n",
       "      <th>max</th>\n",
       "      <td>100.00000</td>\n",
       "      <td>100.000000</td>\n",
       "      <td>100.000000</td>\n",
       "    </tr>\n",
       "  </tbody>\n",
       "</table>\n",
       "</div>"
      ],
      "text/plain": [
       "       math score  reading score  writing score\n",
       "count  1000.00000    1000.000000    1000.000000\n",
       "mean     66.08900      69.169000      68.054000\n",
       "std      15.16308      14.600192      15.195657\n",
       "min       0.00000      17.000000      10.000000\n",
       "25%      57.00000      59.000000      57.750000\n",
       "50%      66.00000      70.000000      69.000000\n",
       "75%      77.00000      79.000000      79.000000\n",
       "max     100.00000     100.000000     100.000000"
      ]
     },
     "execution_count": 4,
     "metadata": {},
     "output_type": "execute_result"
    }
   ],
   "source": [
    "students.describe()"
   ]
  },
  {
   "cell_type": "code",
   "execution_count": 100,
   "metadata": {},
   "outputs": [],
   "source": [
    "from pandas_profiling import ProfileReport# import profile report"
   ]
  },
  {
   "cell_type": "code",
   "execution_count": 9,
   "metadata": {},
   "outputs": [],
   "source": [
    "profile=ProfileReport(students,title=\"profiling report\",explorative=True)"
   ]
  },
  {
   "cell_type": "code",
   "execution_count": 11,
   "metadata": {},
   "outputs": [
    {
     "data": {
      "application/vnd.jupyter.widget-view+json": {
       "model_id": "",
       "version_major": 2,
       "version_minor": 0
      },
      "text/plain": [
       "HBox(children=(HTML(value='Render widgets'), FloatProgress(value=0.0, max=1.0), HTML(value='')))"
      ]
     },
     "metadata": {},
     "output_type": "display_data"
    },
    {
     "data": {
      "application/vnd.jupyter.widget-view+json": {
       "model_id": "85ded023d7764a43976ff12ec3b740ae",
       "version_major": 2,
       "version_minor": 0
      },
      "text/plain": [
       "VBox(children=(Tab(children=(Tab(children=(GridBox(children=(VBox(children=(GridspecLayout(children=(HTML(valu…"
      ]
     },
     "metadata": {},
     "output_type": "display_data"
    }
   ],
   "source": [
    "profile.to_widgets()"
   ]
  },
  {
   "cell_type": "code",
   "execution_count": 12,
   "metadata": {},
   "outputs": [
    {
     "data": {
      "application/vnd.jupyter.widget-view+json": {
       "model_id": "1365e875083e43ffa091f404d0e7f8eb",
       "version_major": 2,
       "version_minor": 0
      },
      "text/plain": [
       "HBox(children=(HTML(value='Export report to file'), FloatProgress(value=0.0, max=1.0), HTML(value='')))"
      ]
     },
     "metadata": {},
     "output_type": "display_data"
    },
    {
     "name": "stdout",
     "output_type": "stream",
     "text": [
      "\n"
     ]
    }
   ],
   "source": [
    "profile.to_file(\"your_report.html\")\n"
   ]
  },
  {
   "cell_type": "markdown",
   "metadata": {},
   "source": [
    "# Data Preparation"
   ]
  },
  {
   "cell_type": "code",
   "execution_count": 71,
   "metadata": {},
   "outputs": [],
   "source": [
    "X = students.iloc[:, :-2].values\n",
    "y = students.iloc[:, 5].values"
   ]
  },
  {
   "cell_type": "code",
   "execution_count": 72,
   "metadata": {},
   "outputs": [],
   "source": [
    "from sklearn.model_selection import train_test_split"
   ]
  },
  {
   "cell_type": "code",
   "execution_count": 102,
   "metadata": {},
   "outputs": [],
   "source": [
    "x_train,x_test,y_train,y_test=train_test_split(x,y,test_size=0.2,random_state=0)\n",
    "#The above script splits 80% of the data to training set while 20% of the data to test set"
   ]
  },
  {
   "cell_type": "markdown",
   "metadata": {},
   "source": [
    "# Training Algorithms"
   ]
  },
  {
   "cell_type": "markdown",
   "metadata": {},
   "source": [
    "We have split our data into training and testing sets, and now is finally the time to train our algorithm. Execute following command:"
   ]
  },
  {
   "cell_type": "code",
   "execution_count": 74,
   "metadata": {},
   "outputs": [],
   "source": [
    "from sklearn.linear_model import LinearRegression"
   ]
  },
  {
   "cell_type": "code",
   "execution_count": 75,
   "metadata": {},
   "outputs": [],
   "source": [
    "reg=LinearRegression()"
   ]
  },
  {
   "cell_type": "code",
   "execution_count": 76,
   "metadata": {},
   "outputs": [
    {
     "data": {
      "text/plain": [
       "LinearRegression()"
      ]
     },
     "execution_count": 76,
     "metadata": {},
     "output_type": "execute_result"
    }
   ],
   "source": [
    "reg.fit(x_train,y_train)"
   ]
  },
  {
   "cell_type": "code",
   "execution_count": 77,
   "metadata": {},
   "outputs": [
    {
     "name": "stdout",
     "output_type": "stream",
     "text": [
      "6.407508863812332\n"
     ]
    }
   ],
   "source": [
    "print(reg.intercept_)"
   ]
  },
  {
   "cell_type": "code",
   "execution_count": 79,
   "metadata": {},
   "outputs": [
    {
     "name": "stdout",
     "output_type": "stream",
     "text": [
      "[0.86132413]\n"
     ]
    }
   ],
   "source": [
    "print(reg.coef_)"
   ]
  },
  {
   "cell_type": "markdown",
   "metadata": {},
   "source": [
    "# Making Predictions"
   ]
  },
  {
   "cell_type": "markdown",
   "metadata": {},
   "source": [
    "Now that we have trained our algorithm, it's time to make some predictions. To do so, we will use our test data and see how accurately our algorithm predicts the percentage score. To make pre-dictions on the test data, execute the following script:"
   ]
  },
  {
   "cell_type": "code",
   "execution_count": 80,
   "metadata": {},
   "outputs": [],
   "source": [
    "y_predict=reg.predict(x_test)"
   ]
  },
  {
   "cell_type": "code",
   "execution_count": 83,
   "metadata": {},
   "outputs": [
    {
     "data": {
      "text/plain": [
       "array([68.42284604, 69.28417017, 46.02841873, 59.80960477, 73.59079081,\n",
       "       68.42284604, 65.83887366, 43.44444635, 81.34270795, 35.6925292 ,\n",
       "       47.75106698, 66.70019779, 76.17476319, 75.31343906, 54.64166   ,\n",
       "       41.72179809, 47.75106698, 84.78800446, 52.05768762, 73.59079081,\n",
       "       62.39357715, 57.22563238, 71.86814255, 58.08695651, 46.02841873,\n",
       "       62.39357715, 52.91901175, 44.30577047, 68.42284604, 83.92668034,\n",
       "       81.34270795, 78.75873557, 86.51065272, 59.80960477, 55.50298413,\n",
       "       74.45211493, 92.53992161, 56.36430826, 72.72946668, 68.42284604,\n",
       "       61.53225302, 53.78033587, 70.1454943 , 73.59079081, 77.89741144,\n",
       "       57.22563238, 84.78800446, 59.80960477, 77.03608732, 60.67092889,\n",
       "       38.27650158, 59.80960477, 49.47371524, 54.64166   , 42.58312222,\n",
       "       69.28417017, 52.05768762, 60.67092889, 71.00681842, 62.39357715,\n",
       "       64.97754953, 74.45211493, 53.78033587, 72.72946668, 64.1162254 ,\n",
       "       65.83887366, 69.28417017, 52.91901175, 66.70019779, 50.33503936,\n",
       "       67.56152191, 81.34270795, 69.28417017, 66.70019779, 54.64166   ,\n",
       "       63.25490128, 66.70019779, 66.70019779, 31.38590856, 74.45211493,\n",
       "       74.45211493, 83.06535621, 69.28417017, 79.6200597 , 61.53225302,\n",
       "       72.72946668, 63.25490128, 81.34270795, 73.59079081, 59.80960477,\n",
       "       72.72946668, 61.53225302, 62.39357715, 54.64166   , 71.86814255,\n",
       "       70.1454943 , 47.75106698, 71.86814255, 63.25490128, 62.39357715,\n",
       "       50.33503936, 83.92668034, 61.53225302, 47.75106698, 68.42284604,\n",
       "       75.31343906, 69.28417017, 62.39357715, 60.67092889, 84.78800446,\n",
       "       68.42284604, 71.00681842, 33.10855682, 57.22563238, 69.28417017,\n",
       "       71.86814255, 77.89741144, 76.17476319, 77.03608732, 58.94828064,\n",
       "       54.64166   , 78.75873557, 86.51065272, 77.03608732, 70.1454943 ,\n",
       "       62.39357715, 70.1454943 , 73.59079081, 64.97754953, 61.53225302,\n",
       "       61.53225302, 61.53225302, 27.07928792, 76.17476319, 83.92668034,\n",
       "       56.36430826, 58.94828064, 61.53225302, 70.1454943 , 77.03608732,\n",
       "       70.1454943 , 64.97754953, 48.61239111, 58.08695651, 80.48138383,\n",
       "       39.99914984, 43.44444635, 45.1670946 , 78.75873557, 81.34270795,\n",
       "       48.61239111, 70.1454943 , 91.67859748, 64.97754953, 77.03608732,\n",
       "       76.17476319, 52.91901175, 56.36430826, 59.80960477, 51.19636349,\n",
       "       89.95594923, 57.22563238, 56.36430826, 86.51065272, 58.94828064,\n",
       "       77.89741144, 74.45211493, 63.25490128, 55.50298413, 57.22563238,\n",
       "       58.94828064, 64.97754953, 39.99914984, 64.97754953, 77.89741144,\n",
       "       68.42284604, 64.97754953, 52.05768762, 92.53992161, 69.28417017,\n",
       "       59.80960477, 80.48138383, 64.1162254 , 63.25490128, 80.48138383,\n",
       "       63.25490128, 89.0946251 , 92.53992161, 73.59079081, 41.72179809,\n",
       "       49.47371524, 58.08695651, 47.75106698, 77.89741144, 58.08695651,\n",
       "       58.94828064, 83.92668034, 77.89741144, 66.70019779, 64.1162254 ])"
      ]
     },
     "execution_count": 83,
     "metadata": {},
     "output_type": "execute_result"
    }
   ],
   "source": [
    "y_predict"
   ]
  },
  {
   "cell_type": "code",
   "execution_count": 91,
   "metadata": {},
   "outputs": [
    {
     "data": {
      "text/plain": [
       "array([ 72,  73,  46,  62,  78,  72,  69,  43,  87,  34,  48,  70,  81,\n",
       "        80,  56,  41,  48,  91,  53,  78,  65,  59,  76,  60,  46,  65,\n",
       "        54,  44,  72,  90,  87,  84,  93,  62,  57,  79, 100,  58,  77,\n",
       "        72,  64,  55,  74,  78,  83,  59,  91,  62,  82,  63,  37,  62,\n",
       "        50,  56,  42,  73,  53,  63,  75,  65,  68,  79,  55,  77,  67,\n",
       "        69,  73,  54,  70,  51,  71,  87,  73,  70,  56,  66,  70,  70,\n",
       "        29,  79,  79,  89,  73,  85,  64,  77,  66,  87,  78,  62,  77,\n",
       "        64,  65,  56,  76,  74,  48,  76,  66,  65,  51,  90,  64,  48,\n",
       "        72,  80,  73,  65,  63,  91,  72,  75,  31,  59,  73,  76,  83,\n",
       "        81,  82,  61,  56,  84,  93,  82,  74,  65,  74,  78,  68,  64,\n",
       "        64,  64,  24,  81,  90,  58,  61,  64,  74,  82,  74,  68,  49,\n",
       "        60,  86,  39,  43,  45,  84,  87,  49,  74,  99,  68,  82,  81,\n",
       "        54,  58,  62,  52,  97,  59,  58,  93,  61,  83,  79,  66,  57,\n",
       "        59,  61,  68,  39,  68,  83,  72,  68,  53, 100,  73,  62,  86,\n",
       "        67,  66,  86,  66,  96, 100,  78,  41,  50,  60,  48,  83,  60,\n",
       "        61,  90,  83,  70,  67], dtype=int64)"
      ]
     },
     "execution_count": 91,
     "metadata": {},
     "output_type": "execute_result"
    }
   ],
   "source": [
    "x_test.reshape(-1)"
   ]
  },
  {
   "cell_type": "code",
   "execution_count": 92,
   "metadata": {},
   "outputs": [
    {
     "data": {
      "text/plain": [
       "array([68.42284604, 69.28417017, 46.02841873, 59.80960477, 73.59079081,\n",
       "       68.42284604, 65.83887366, 43.44444635, 81.34270795, 35.6925292 ,\n",
       "       47.75106698, 66.70019779, 76.17476319, 75.31343906, 54.64166   ,\n",
       "       41.72179809, 47.75106698, 84.78800446, 52.05768762, 73.59079081,\n",
       "       62.39357715, 57.22563238, 71.86814255, 58.08695651, 46.02841873,\n",
       "       62.39357715, 52.91901175, 44.30577047, 68.42284604, 83.92668034,\n",
       "       81.34270795, 78.75873557, 86.51065272, 59.80960477, 55.50298413,\n",
       "       74.45211493, 92.53992161, 56.36430826, 72.72946668, 68.42284604,\n",
       "       61.53225302, 53.78033587, 70.1454943 , 73.59079081, 77.89741144,\n",
       "       57.22563238, 84.78800446, 59.80960477, 77.03608732, 60.67092889,\n",
       "       38.27650158, 59.80960477, 49.47371524, 54.64166   , 42.58312222,\n",
       "       69.28417017, 52.05768762, 60.67092889, 71.00681842, 62.39357715,\n",
       "       64.97754953, 74.45211493, 53.78033587, 72.72946668, 64.1162254 ,\n",
       "       65.83887366, 69.28417017, 52.91901175, 66.70019779, 50.33503936,\n",
       "       67.56152191, 81.34270795, 69.28417017, 66.70019779, 54.64166   ,\n",
       "       63.25490128, 66.70019779, 66.70019779, 31.38590856, 74.45211493,\n",
       "       74.45211493, 83.06535621, 69.28417017, 79.6200597 , 61.53225302,\n",
       "       72.72946668, 63.25490128, 81.34270795, 73.59079081, 59.80960477,\n",
       "       72.72946668, 61.53225302, 62.39357715, 54.64166   , 71.86814255,\n",
       "       70.1454943 , 47.75106698, 71.86814255, 63.25490128, 62.39357715,\n",
       "       50.33503936, 83.92668034, 61.53225302, 47.75106698, 68.42284604,\n",
       "       75.31343906, 69.28417017, 62.39357715, 60.67092889, 84.78800446,\n",
       "       68.42284604, 71.00681842, 33.10855682, 57.22563238, 69.28417017,\n",
       "       71.86814255, 77.89741144, 76.17476319, 77.03608732, 58.94828064,\n",
       "       54.64166   , 78.75873557, 86.51065272, 77.03608732, 70.1454943 ,\n",
       "       62.39357715, 70.1454943 , 73.59079081, 64.97754953, 61.53225302,\n",
       "       61.53225302, 61.53225302, 27.07928792, 76.17476319, 83.92668034,\n",
       "       56.36430826, 58.94828064, 61.53225302, 70.1454943 , 77.03608732,\n",
       "       70.1454943 , 64.97754953, 48.61239111, 58.08695651, 80.48138383,\n",
       "       39.99914984, 43.44444635, 45.1670946 , 78.75873557, 81.34270795,\n",
       "       48.61239111, 70.1454943 , 91.67859748, 64.97754953, 77.03608732,\n",
       "       76.17476319, 52.91901175, 56.36430826, 59.80960477, 51.19636349,\n",
       "       89.95594923, 57.22563238, 56.36430826, 86.51065272, 58.94828064,\n",
       "       77.89741144, 74.45211493, 63.25490128, 55.50298413, 57.22563238,\n",
       "       58.94828064, 64.97754953, 39.99914984, 64.97754953, 77.89741144,\n",
       "       68.42284604, 64.97754953, 52.05768762, 92.53992161, 69.28417017,\n",
       "       59.80960477, 80.48138383, 64.1162254 , 63.25490128, 80.48138383,\n",
       "       63.25490128, 89.0946251 , 92.53992161, 73.59079081, 41.72179809,\n",
       "       49.47371524, 58.08695651, 47.75106698, 77.89741144, 58.08695651,\n",
       "       58.94828064, 83.92668034, 77.89741144, 66.70019779, 64.1162254 ])"
      ]
     },
     "execution_count": 92,
     "metadata": {},
     "output_type": "execute_result"
    }
   ],
   "source": [
    "y_predict.reshape(-1)"
   ]
  },
  {
   "cell_type": "code",
   "execution_count": 96,
   "metadata": {},
   "outputs": [],
   "source": [
    "df=pd.DataFrame({'Actual':x_test.reshape(-1),'Predicted':y_predict.reshape(-1)})\n"
   ]
  },
  {
   "cell_type": "code",
   "execution_count": 97,
   "metadata": {},
   "outputs": [
    {
     "data": {
      "text/html": [
       "<div>\n",
       "<style scoped>\n",
       "    .dataframe tbody tr th:only-of-type {\n",
       "        vertical-align: middle;\n",
       "    }\n",
       "\n",
       "    .dataframe tbody tr th {\n",
       "        vertical-align: top;\n",
       "    }\n",
       "\n",
       "    .dataframe thead th {\n",
       "        text-align: right;\n",
       "    }\n",
       "</style>\n",
       "<table border=\"1\" class=\"dataframe\">\n",
       "  <thead>\n",
       "    <tr style=\"text-align: right;\">\n",
       "      <th></th>\n",
       "      <th>Actual</th>\n",
       "      <th>Predicted</th>\n",
       "    </tr>\n",
       "  </thead>\n",
       "  <tbody>\n",
       "    <tr>\n",
       "      <th>0</th>\n",
       "      <td>72</td>\n",
       "      <td>68.422846</td>\n",
       "    </tr>\n",
       "    <tr>\n",
       "      <th>1</th>\n",
       "      <td>73</td>\n",
       "      <td>69.284170</td>\n",
       "    </tr>\n",
       "    <tr>\n",
       "      <th>2</th>\n",
       "      <td>46</td>\n",
       "      <td>46.028419</td>\n",
       "    </tr>\n",
       "    <tr>\n",
       "      <th>3</th>\n",
       "      <td>62</td>\n",
       "      <td>59.809605</td>\n",
       "    </tr>\n",
       "    <tr>\n",
       "      <th>4</th>\n",
       "      <td>78</td>\n",
       "      <td>73.590791</td>\n",
       "    </tr>\n",
       "    <tr>\n",
       "      <th>...</th>\n",
       "      <td>...</td>\n",
       "      <td>...</td>\n",
       "    </tr>\n",
       "    <tr>\n",
       "      <th>195</th>\n",
       "      <td>61</td>\n",
       "      <td>58.948281</td>\n",
       "    </tr>\n",
       "    <tr>\n",
       "      <th>196</th>\n",
       "      <td>90</td>\n",
       "      <td>83.926680</td>\n",
       "    </tr>\n",
       "    <tr>\n",
       "      <th>197</th>\n",
       "      <td>83</td>\n",
       "      <td>77.897411</td>\n",
       "    </tr>\n",
       "    <tr>\n",
       "      <th>198</th>\n",
       "      <td>70</td>\n",
       "      <td>66.700198</td>\n",
       "    </tr>\n",
       "    <tr>\n",
       "      <th>199</th>\n",
       "      <td>67</td>\n",
       "      <td>64.116225</td>\n",
       "    </tr>\n",
       "  </tbody>\n",
       "</table>\n",
       "<p>200 rows × 2 columns</p>\n",
       "</div>"
      ],
      "text/plain": [
       "     Actual  Predicted\n",
       "0        72  68.422846\n",
       "1        73  69.284170\n",
       "2        46  46.028419\n",
       "3        62  59.809605\n",
       "4        78  73.590791\n",
       "..      ...        ...\n",
       "195      61  58.948281\n",
       "196      90  83.926680\n",
       "197      83  77.897411\n",
       "198      70  66.700198\n",
       "199      67  64.116225\n",
       "\n",
       "[200 rows x 2 columns]"
      ]
     },
     "execution_count": 97,
     "metadata": {},
     "output_type": "execute_result"
    }
   ],
   "source": [
    "df"
   ]
  },
  {
   "cell_type": "markdown",
   "metadata": {},
   "source": [
    "# Evaluation of algorithms"
   ]
  },
  {
   "cell_type": "code",
   "execution_count": 101,
   "metadata": {},
   "outputs": [
    {
     "name": "stdout",
     "output_type": "stream",
     "text": [
      "Mean Absolute Error: 7.716733319559008\n",
      "Mean Squared Error: 86.02373791316744\n",
      "Root Mean Squared Error: 9.274898269693713\n"
     ]
    }
   ],
   "source": [
    "from sklearn import metrics\n",
    "print('Mean Absolute Error:', metrics.mean_absolute_error(y_test, y_predict.reshape(-1)))\n",
    "print('Mean Squared Error:', metrics.mean_squared_error(y_test, y_predict.reshape(-1)))\n",
    "print('Root Mean Squared Error:', np.sqrt(metrics.mean_squared_error(y_test, y_predict.reshape(-1))))"
   ]
  },
  {
   "cell_type": "markdown",
   "metadata": {},
   "source": [
    "#You can see that the value of root mean squared error is 9.27, which is less than 15% of the mean value of the percentages of all the maths score i.e. 66.089. This means that our algorithm did a decent job."
   ]
  }
 ],
 "metadata": {
  "kernelspec": {
   "display_name": "Python 3",
   "language": "python",
   "name": "python3"
  },
  "language_info": {
   "codemirror_mode": {
    "name": "ipython",
    "version": 3
   },
   "file_extension": ".py",
   "mimetype": "text/x-python",
   "name": "python",
   "nbconvert_exporter": "python",
   "pygments_lexer": "ipython3",
   "version": "3.8.5"
  }
 },
 "nbformat": 4,
 "nbformat_minor": 4
}
